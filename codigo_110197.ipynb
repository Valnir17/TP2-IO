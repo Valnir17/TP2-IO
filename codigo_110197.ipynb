{
 "cells": [
  {
   "cell_type": "markdown",
   "id": "95398fb4",
   "metadata": {},
   "source": [
    "Datos dependientes del padrón:\n",
    "\n",
    "Padrón = 110197\n",
    "\n",
    "Lambda = 1000\n",
    "\n",
    "Sigma = 97/100+0.1= 1.07\n",
    "\n",
    "b = 1.5"
   ]
  },
  {
   "cell_type": "markdown",
   "id": "101cb01b",
   "metadata": {},
   "source": [
    "# Consigna\n",
    "\n",
    "La empresa “El comandante Fort S.A” debe planificar aproximadamente sus estimaciones de producción para el próximo año. Se trabaja con 2 productos. El producto A es de producción barata y precio de venta actual de $4000 por unidad, mientras que el producto B es de un mayor costo y calidad con un precio de venta actual de $14000.\n",
    "\n",
    "La empresa quiere obtener algunos datos estimados del año que viene sabiendo que, puede producir,mensualmente, 4000 unidades de A o 1500 unidades de B o una combinación de ambos. Al mismo tiempo, cada mes, se debería satisfacer una demanda mínima para cada producto. En el caso del producto A, la demanda mínima mensual se distribuye como una Poisson(1000), mientras que en el producto B, la demanda mínima mensual se distribuye como una binomial(p=0,85,n=300), dónde n representa a clientes “fieles” al producto, según registros históricos, y p la probabilidad de que adquieran el producto ese mes.\n",
    "\n",
    "Al mismo tiempo, al finalizar cada mes, el departamento de compras estima que se darán aumentos mensuales en los precios de ventas para cada producto el primer día de cada mes (previo a comenzar a vender). Para el producto A, los aumentos mensuales se distribuyen normalmente(u=2,sigma=1.07) en términos porcentuales, mientras que en el producto B serán del tipo uniforme(a=0,b=1.5), también en términos porcentuales\n",
    "\n",
    "- Año tiene 12 meses\n",
    "- Los aumentos se dan sobre el precio del producto en el momento, NO sobre el precio inicial\n",
    "- El primer mes se realiza con el precio actual\n",
    "\n",
    "1) Se solicita simular el año e indicar:\n",
    "\t- El ingreso anual esperado en promedio\n",
    "\t- Los límites de confianza con un 80% del aumento anual en el producto B, representado porcentualmente\n",
    "\t\n",
    "2) Generar 1000 valores simulados de:\n",
    "\t- El aumento anual del precio del producto A (en $)\n",
    "\t- La demanda mínima anual de ambos productos\n"
   ]
  },
  {
   "cell_type": "code",
   "execution_count": 1,
   "id": "a96e27fe",
   "metadata": {},
   "outputs": [],
   "source": [
    "import numpy as np\n",
    "import pandas as pd\n",
    "import pulp as pl\n",
    "from scipy import stats"
   ]
  },
  {
   "cell_type": "code",
   "execution_count": null,
   "id": "0da5fd21",
   "metadata": {},
   "outputs": [],
   "source": [
    "# Defino mis configuraciones tanto de la simulación \n",
    "# como de parametros iniciales\n",
    "\n",
    "# Semilla para reproducibilidad\n",
    "np.random.seed(42) # Referencia a Asimov\n",
    "\n",
    "# Parámetros iniciales\n",
    "precio_inicial_A = 4000  # Precio inicial del producto A\n",
    "precio_inicial_B = 14000  # Precio inicial del producto B\n",
    "max_unidades_A = 4000  # Capacidad máxima mensual de producción de A\n",
    "max_unidades_B = 1500  # Capacidad máxima mensual de producción de B\n",
    "meses = 12  # Cantidad de meses a simular\n",
    "num_simulaciones = 1000  # Número de simulaciones. Uso 1000 para no tener que replantear todo para el c y el d\n"
   ]
  },
  {
   "cell_type": "markdown",
   "id": "d2cde731",
   "metadata": {},
   "source": [
    "# Acá empiezo a armar las funciones que voy a usar para la simulación.\n",
    "Prefiero dejarlo como funciones para que sea más fácil de leer y entender (y que sea todo por separado así no me pierdo mucho si hay que corregir algo)."
   ]
  },
  {
   "cell_type": "code",
   "execution_count": 3,
   "id": "d12dd13e",
   "metadata": {},
   "outputs": [],
   "source": [
    "# Función para generar demanda mínima mensual en base a las consignas\n",
    "def generar_demanda_minima():\n",
    "    demanda_min_A = np.random.poisson(lam=1000)  # Poisson(lambda=1000)\n",
    "    demanda_min_B = np.random.binomial(n=300, p=0.85)  # Binomial(n=300, p=0.85)\n",
    "    return demanda_min_A, demanda_min_B\n"
   ]
  },
  {
   "cell_type": "code",
   "execution_count": 4,
   "id": "a62be5a0",
   "metadata": {},
   "outputs": [],
   "source": [
    "# Función para calcular aumentos de precios usando las distribuciones que nos dieron\n",
    "#! b y sigma salen del padrón\n",
    "# Esta función la voy a tener que llamar cada mes para calcular el aumento de precios compuesto \n",
    "def calcular_aumentos():\n",
    "    aumento_A = np.random.normal(loc=2, scale=1.07) / 100  # Normal(u=2, sigma=1.07) en porcentaje\n",
    "    aumento_B = np.random.uniform(low=0, high=1.5) / 100  # Uniforme(a=0, b=1.5) en porcentaje\n",
    "    return aumento_A, aumento_B"
   ]
  },
  {
   "cell_type": "code",
   "execution_count": null,
   "id": "884bb1e6",
   "metadata": {},
   "outputs": [],
   "source": [
    "# Función para optimizar la producción mensual usando PuLP\n",
    "def optimizar_produccion(precio_A, precio_B, demanda_min_A, demanda_min_B):\n",
    "    # Creo el problema de maximización\n",
    "    problema = pl.LpProblem(\"Maximizar_Ingresos\", pl.LpMaximize)\n",
    "    \n",
    "    # Armo mis variables de decisión asumiendo que es imposible realizar ventas fraccionales\n",
    "    A = pl.LpVariable(\"Unidades_A\", lowBound=demanda_min_A, cat=\"Integer\")\n",
    "    B = pl.LpVariable(\"Unidades_B\", lowBound=demanda_min_B, cat=\"Integer\")\n",
    "    \n",
    "    # Función objetivo: maximizar ingresos\n",
    "    problema += precio_A * A + precio_B * B, \"Ingresos_Totales\"\n",
    "    \n",
    "    # Restricción de capacidad de producción (reformulada para evitar dividir LpVariable por int)\n",
    "    problema += A * 1500 + B * 4000 <= 4000 * 1500, \"Restricción_Capacidad\"\n",
    "    \n",
    "    # Resolver el problema\n",
    "    problema.solve(pl.PULP_CBC_CMD(msg=False))\n",
    "    \n",
    "    # Obtener las cantidades óptimas\n",
    "    unidades_A = pl.value(A)\n",
    "    unidades_B = pl.value(B)\n",
    "    \n",
    "    # Calcular ingresos\n",
    "    ingresos = pl.value(problema.objective)\n",
    "    \n",
    "    return unidades_A, unidades_B, ingresos\n",
    "\n"
   ]
  },
  {
   "cell_type": "markdown",
   "id": "07b0e6ed",
   "metadata": {},
   "source": [
    "# Acá tengo que plantear las simulaciones"
   ]
  },
  {
   "cell_type": "code",
   "execution_count": null,
   "id": "f9188f99",
   "metadata": {},
   "outputs": [],
   "source": [
    "# Realizar simulaciones\n",
    "resultados = []\n",
    "aumentos_acumulados_B = []\n",
    "aumentos_acumulados_A_pesos = []  # Lista para guardar aumentos anuales de A en pesos\n",
    "demandas_minimas_A_anuales = []   # Lista para guardar demandas mínimas anuales de A\n",
    "demandas_minimas_B_anuales = []   # Lista para guardar demandas mínimas anuales de B\n",
    "\n",
    "\n",
    "for _ in range(num_simulaciones):\n",
    "    precio_A = precio_inicial_A\n",
    "    precio_B = precio_inicial_B\n",
    "    ingresos_anuales = 0\n",
    "    # Creo acá unas variables para hacer el aumento compuesto\n",
    "    aumento_acumulado_B = 1  # Factor multiplicativo para el producto B\n",
    "    aumento_acumulado_A = 1  # Factor multiplicativo para el producto A\n",
    "    \n",
    "    # Inicializo las demandas mínimas anuales\n",
    "    demanda_min_anual_A = 0\n",
    "    demanda_min_anual_B = 0\n",
    "    \n",
    "    for mes in range(meses):\n",
    "        # Meto condición para que el primer mes no tenga aumento\n",
    "        if mes > 0:\n",
    "            aumento_A, aumento_B = calcular_aumentos()\n",
    "            precio_A *= (1 + aumento_A)\n",
    "            precio_B *= (1 + aumento_B)\n",
    "            aumento_acumulado_B *= (1 + aumento_B)\n",
    "            aumento_acumulado_A *= (1 + aumento_A)\n",
    "        \n",
    "        # Generar demanda mínima\n",
    "        demanda_min_A, demanda_min_B = generar_demanda_minima()\n",
    "        \n",
    "        # Acumular demanda mínima anual\n",
    "        demanda_min_anual_A += demanda_min_A\n",
    "        demanda_min_anual_B += demanda_min_B\n",
    "        \n",
    "        # Optimizar producción\n",
    "        unidades_A, unidades_B, ingresos_mes = optimizar_produccion(\n",
    "            precio_A, precio_B, demanda_min_A, demanda_min_B\n",
    "        )\n",
    "        \n",
    "        # Acumular ingresos mensuales\n",
    "        ingresos_anuales += ingresos_mes\n",
    "    \n",
    "    # Guardar resultados de la simulación\n",
    "    resultados.append(ingresos_anuales)\n",
    "    aumentos_acumulados_B.append((aumento_acumulado_B - 1) * 100)  # Convertir a porcentaje\n",
    "    \n",
    "    # Guardar el aumento anual del precio de A en pesos (precio final - precio inicial)\n",
    "    aumento_A_pesos = precio_A - precio_inicial_A\n",
    "    aumentos_acumulados_A_pesos.append(aumento_A_pesos)\n",
    "    \n",
    "    # Guardar las demandas mínimas anuales\n",
    "    demandas_minimas_A_anuales.append(demanda_min_anual_A)\n",
    "    demandas_minimas_B_anuales.append(demanda_min_anual_B)\n",
    "\n",
    "\n",
    "# Calcular estadísticas\n",
    "ingreso_anual_promedio = np.mean(resultados)\n",
    "percentil_10_B = np.percentile(aumentos_acumulados_B, 10)\n",
    "percentil_90_B = np.percentile(aumentos_acumulados_B, 90)\n",
    "\n",
    "\n"
   ]
  },
  {
   "cell_type": "markdown",
   "id": "7e1285e1",
   "metadata": {},
   "source": [
    "# Acá paso todo a CSV usando Pandas (que es lo que acostumbro a usar)"
   ]
  },
  {
   "cell_type": "code",
   "execution_count": null,
   "id": "f663f85e",
   "metadata": {},
   "outputs": [],
   "source": [
    "#Armo mis dataframes para los csv\n",
    "\n",
    "df_resultados = pd.DataFrame({\n",
    "    'ing_an': [ingreso_anual_promedio],\n",
    "    'lim_inf_b': [percentil_10_B],\n",
    "    'lim_sup_b': [percentil_90_B]\n",
    "})\n",
    "\n",
    "df_aumentos = pd.DataFrame({\n",
    "    'aum_a': aumentos_acumulados_A_pesos\n",
    "})\n",
    "\n",
    "df_demandas_minimas = pd.DataFrame({\n",
    "    'dem_min_a': demandas_minimas_A_anuales,\n",
    "    'dem_min_b': demandas_minimas_B_anuales\n",
    "})\n",
    "\n",
    "# Guardar resultados en CSV\n",
    "df_resultados.to_csv('informe_110197.csv', index=False)\n",
    "df_aumentos.to_csv('aumentos_110197.csv', index=False)\n",
    "df_demandas_minimas.to_csv('demandas_minima_110197.csv', index=False)\n"
   ]
  }
 ],
 "metadata": {
  "kernelspec": {
   "display_name": "Python 3",
   "language": "python",
   "name": "python3"
  },
  "language_info": {
   "codemirror_mode": {
    "name": "ipython",
    "version": 3
   },
   "file_extension": ".py",
   "mimetype": "text/x-python",
   "name": "python",
   "nbconvert_exporter": "python",
   "pygments_lexer": "ipython3",
   "version": "3.12.3"
  }
 },
 "nbformat": 4,
 "nbformat_minor": 5
}
